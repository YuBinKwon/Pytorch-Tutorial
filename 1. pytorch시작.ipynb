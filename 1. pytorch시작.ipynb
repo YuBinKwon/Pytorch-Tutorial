{
 "cells": [
  {
   "cell_type": "code",
   "execution_count": 1,
   "metadata": {},
   "outputs": [],
   "source": [
    "from __future__ import print_function #python2 와 python3 문법 동시사용\n",
    "import torch"
   ]
  },
  {
   "cell_type": "code",
   "execution_count": 4,
   "metadata": {},
   "outputs": [
    {
     "name": "stdout",
     "output_type": "stream",
     "text": [
      "tensor([[3.4066e+00, 4.7378e-23, 2.1164e-37],\n",
      "        [8.3435e-10, 1.8963e-22, 5.0848e-14],\n",
      "        [2.1765e-04, 1.4313e+01, 1.7136e-37],\n",
      "        [3.5822e+00, 1.4787e-38, 5.7316e+01],\n",
      "        [1.4787e-38, 1.6770e-37, 6.6016e-01]])\n"
     ]
    }
   ],
   "source": [
    "x=torch.empty(5,3) #초기화되지 않은 5x3 tensor\n",
    "print(x)"
   ]
  },
  {
   "cell_type": "code",
   "execution_count": 15,
   "metadata": {},
   "outputs": [
    {
     "name": "stdout",
     "output_type": "stream",
     "text": [
      "tensor([[0.8871, 0.6468, 0.9313],\n",
      "        [0.0776, 0.9535, 0.4822],\n",
      "        [0.6534, 0.7784, 0.1710],\n",
      "        [0.4678, 0.4291, 0.7067],\n",
      "        [0.2769, 0.5421, 0.1170]])\n"
     ]
    }
   ],
   "source": [
    "x=torch.rand(5,3) #무작위로 초기화된 tensor\n",
    "print(x)"
   ]
  },
  {
   "cell_type": "code",
   "execution_count": 8,
   "metadata": {},
   "outputs": [
    {
     "name": "stdout",
     "output_type": "stream",
     "text": [
      "tensor([[0, 0, 0],\n",
      "        [0, 0, 0],\n",
      "        [0, 0, 0],\n",
      "        [0, 0, 0],\n",
      "        [0, 0, 0]])\n"
     ]
    }
   ],
   "source": [
    "x=torch.zeros(5,3,dtype=torch.long)\n",
    "print(x)"
   ]
  },
  {
   "cell_type": "code",
   "execution_count": 10,
   "metadata": {},
   "outputs": [
    {
     "name": "stdout",
     "output_type": "stream",
     "text": [
      "tensor([5.5000, 3.0000])\n"
     ]
    }
   ],
   "source": [
    "x=torch.tensor([5.5,3])\n",
    "print(x)"
   ]
  },
  {
   "cell_type": "markdown",
   "metadata": {},
   "source": [
    "#### 기존 tensor를 바탕으로 새로운 tensor 만든다.\n",
    "#### 메소드는 새로운 값을 제공받지 않는 한, 입력 tensor의 속성(ex.dtype)을 재사용"
   ]
  },
  {
   "cell_type": "code",
   "execution_count": 19,
   "metadata": {},
   "outputs": [
    {
     "name": "stdout",
     "output_type": "stream",
     "text": [
      "tensor([[1., 1., 1.],\n",
      "        [1., 1., 1.],\n",
      "        [1., 1., 1.],\n",
      "        [1., 1., 1.],\n",
      "        [1., 1., 1.]], dtype=torch.float64)\n"
     ]
    }
   ],
   "source": [
    "x=x.new_ones(5,3,dtype=torch.double)\n",
    "print(x)"
   ]
  },
  {
   "cell_type": "code",
   "execution_count": 20,
   "metadata": {},
   "outputs": [
    {
     "name": "stdout",
     "output_type": "stream",
     "text": [
      "tensor([[0., 0., 0.],\n",
      "        [0., 0., 0.],\n",
      "        [0., 0., 0.],\n",
      "        [0., 0., 0.],\n",
      "        [0., 0., 0.]], dtype=torch.float64)\n"
     ]
    }
   ],
   "source": [
    "x=x.new_zeros(5,3,dtype=torch.double) #new_* 메소드는 크기를 받음\n",
    "print(x)"
   ]
  },
  {
   "cell_type": "code",
   "execution_count": 23,
   "metadata": {},
   "outputs": [
    {
     "name": "stdout",
     "output_type": "stream",
     "text": [
      "tensor([[ 1.2308, -1.0280, -0.3057],\n",
      "        [-0.9085, -0.1412, -0.5476],\n",
      "        [-0.2384,  1.8177,  1.6510],\n",
      "        [ 0.5629, -0.5631, -0.2845],\n",
      "        [-1.4446,  1.2391, -0.2116]])\n"
     ]
    }
   ],
   "source": [
    "x=torch.randn_like(x,dtype=torch.float) #dtype을 override.결과는 동일한 크기를 가짐\n",
    "print(x) #rand 함수, x와 같은 크기인 5x3 tensor"
   ]
  },
  {
   "cell_type": "code",
   "execution_count": 24,
   "metadata": {
    "scrolled": true
   },
   "outputs": [
    {
     "name": "stdout",
     "output_type": "stream",
     "text": [
      "torch.Size([5, 3])\n"
     ]
    }
   ],
   "source": [
    "print(x.size())"
   ]
  },
  {
   "cell_type": "code",
   "execution_count": 25,
   "metadata": {},
   "outputs": [
    {
     "name": "stdout",
     "output_type": "stream",
     "text": [
      "tensor([[ 2.1062, -0.1441,  0.4262],\n",
      "        [-0.3681,  0.3670, -0.3584],\n",
      "        [-0.0240,  2.6660,  1.7189],\n",
      "        [ 0.8469,  0.1679, -0.2442],\n",
      "        [-1.1074,  1.5303,  0.3325]])\n"
     ]
    }
   ],
   "source": [
    "##연산\n",
    "y=torch.rand(5,3) #덧셈\n",
    "print(x+y)"
   ]
  },
  {
   "cell_type": "code",
   "execution_count": 26,
   "metadata": {},
   "outputs": [
    {
     "name": "stdout",
     "output_type": "stream",
     "text": [
      "tensor([[ 2.1062, -0.1441,  0.4262],\n",
      "        [-0.3681,  0.3670, -0.3584],\n",
      "        [-0.0240,  2.6660,  1.7189],\n",
      "        [ 0.8469,  0.1679, -0.2442],\n",
      "        [-1.1074,  1.5303,  0.3325]])\n"
     ]
    }
   ],
   "source": [
    "print(torch.add(x,y))"
   ]
  },
  {
   "cell_type": "code",
   "execution_count": 27,
   "metadata": {},
   "outputs": [
    {
     "name": "stdout",
     "output_type": "stream",
     "text": [
      "tensor([[ 2.1062, -0.1441,  0.4262],\n",
      "        [-0.3681,  0.3670, -0.3584],\n",
      "        [-0.0240,  2.6660,  1.7189],\n",
      "        [ 0.8469,  0.1679, -0.2442],\n",
      "        [-1.1074,  1.5303,  0.3325]])\n"
     ]
    }
   ],
   "source": [
    "result=torch.empty(5,3)\n",
    "torch.add(x,y,out=result) #덧셈 결과tensor를 인자로 제공. 출력값을 result에 넣음\n",
    "print(result)"
   ]
  },
  {
   "cell_type": "markdown",
   "metadata": {},
   "source": [
    "#### y에 x더하기(바꿔치기 방식) 바꿔치기 연산뒤에는 _"
   ]
  },
  {
   "cell_type": "code",
   "execution_count": 28,
   "metadata": {},
   "outputs": [
    {
     "name": "stdout",
     "output_type": "stream",
     "text": [
      "tensor([[ 2.1062, -0.1441,  0.4262],\n",
      "        [-0.3681,  0.3670, -0.3584],\n",
      "        [-0.0240,  2.6660,  1.7189],\n",
      "        [ 0.8469,  0.1679, -0.2442],\n",
      "        [-1.1074,  1.5303,  0.3325]])\n"
     ]
    }
   ],
   "source": [
    "y.add_(x)\n",
    "print(y)"
   ]
  },
  {
   "cell_type": "code",
   "execution_count": 29,
   "metadata": {},
   "outputs": [
    {
     "name": "stdout",
     "output_type": "stream",
     "text": [
      "tensor([[ 2.1062, -0.1441,  0.4262],\n",
      "        [-0.3681,  0.3670, -0.3584],\n",
      "        [-0.0240,  2.6660,  1.7189],\n",
      "        [ 0.8469,  0.1679, -0.2442],\n",
      "        [-1.1074,  1.5303,  0.3325]])\n"
     ]
    }
   ],
   "source": [
    "x.copy_(y)\n",
    "print(x)"
   ]
  },
  {
   "cell_type": "code",
   "execution_count": 30,
   "metadata": {},
   "outputs": [
    {
     "name": "stdout",
     "output_type": "stream",
     "text": [
      "tensor([-0.1441,  0.3670,  2.6660,  0.1679,  1.5303])\n"
     ]
    }
   ],
   "source": [
    "print(x[:,1])"
   ]
  },
  {
   "cell_type": "markdown",
   "metadata": {},
   "source": [
    "#### 크기변경 : tensor의 크기나 모양 변경 시 torch.view"
   ]
  },
  {
   "cell_type": "code",
   "execution_count": 31,
   "metadata": {},
   "outputs": [
    {
     "name": "stdout",
     "output_type": "stream",
     "text": [
      "torch.Size([4, 4]) torch.Size([16]) torch.Size([2, 8])\n"
     ]
    }
   ],
   "source": [
    "x=torch.randn(4,4)#rand:정수, randi:실수, randn:정규분포, randperm:1dptj n까지 범위\n",
    "y=x.view(16)\n",
    "z=x.view(-1,8) #-1은 다른 차원이 정해지면 자동으로 계산되어 정해짐\n",
    "print(x.size(),y.size(),z.size())"
   ]
  },
  {
   "cell_type": "markdown",
   "metadata": {},
   "source": [
    "#### tensor에 하나의 값만 존재한다면, .item()을 사용하면 숫자값을 얻을 수 있음"
   ]
  },
  {
   "cell_type": "code",
   "execution_count": 32,
   "metadata": {},
   "outputs": [
    {
     "name": "stdout",
     "output_type": "stream",
     "text": [
      "tensor([-0.3713])\n",
      "-0.37125909328460693\n"
     ]
    }
   ],
   "source": [
    "x=torch.randn(1)\n",
    "print(x)\n",
    "print(x.item())"
   ]
  },
  {
   "cell_type": "code",
   "execution_count": 33,
   "metadata": {},
   "outputs": [
    {
     "name": "stdout",
     "output_type": "stream",
     "text": [
      "tensor([1., 1., 1., 1., 1.])\n"
     ]
    }
   ],
   "source": [
    "a=torch.ones(5)\n",
    "print(a)"
   ]
  },
  {
   "cell_type": "markdown",
   "metadata": {},
   "source": [
    "#### torch tensor를 numpy배열로 변환하기"
   ]
  },
  {
   "cell_type": "code",
   "execution_count": 34,
   "metadata": {},
   "outputs": [
    {
     "name": "stdout",
     "output_type": "stream",
     "text": [
      "[1. 1. 1. 1. 1.]\n"
     ]
    }
   ],
   "source": [
    "b=a.numpy()\n",
    "print(b)"
   ]
  },
  {
   "cell_type": "code",
   "execution_count": 35,
   "metadata": {},
   "outputs": [
    {
     "name": "stdout",
     "output_type": "stream",
     "text": [
      "tensor([2., 2., 2., 2., 2.])\n",
      "[2. 2. 2. 2. 2.]\n"
     ]
    }
   ],
   "source": [
    "a.add_(1) #하나를 변경하면 다른 하나도 변경됨\n",
    "print(a)\n",
    "print(b)"
   ]
  },
  {
   "cell_type": "markdown",
   "metadata": {},
   "source": [
    "#### numpy배열을 torch tensor로 변환하기"
   ]
  },
  {
   "cell_type": "code",
   "execution_count": 36,
   "metadata": {},
   "outputs": [
    {
     "name": "stdout",
     "output_type": "stream",
     "text": [
      "[2. 2. 2. 2. 2.]\n",
      "tensor([2., 2., 2., 2., 2.], dtype=torch.float64)\n"
     ]
    }
   ],
   "source": [
    "import numpy as np\n",
    "a=np.ones(5)\n",
    "b=torch.from_numpy(a)\n",
    "np.add(a,1,out=a)\n",
    "print(a)\n",
    "print(b)"
   ]
  }
 ],
 "metadata": {
  "kernelspec": {
   "display_name": "Python 3",
   "language": "python",
   "name": "python3"
  },
  "language_info": {
   "codemirror_mode": {
    "name": "ipython",
    "version": 3
   },
   "file_extension": ".py",
   "mimetype": "text/x-python",
   "name": "python",
   "nbconvert_exporter": "python",
   "pygments_lexer": "ipython3",
   "version": "3.8.3"
  }
 },
 "nbformat": 4,
 "nbformat_minor": 4
}
