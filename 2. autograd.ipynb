{
 "cells": [
  {
   "cell_type": "markdown",
   "metadata": {},
   "source": [
    "## autograd"
   ]
  },
  {
   "cell_type": "code",
   "execution_count": 1,
   "metadata": {},
   "outputs": [],
   "source": [
    "import torch"
   ]
  },
  {
   "cell_type": "code",
   "execution_count": 2,
   "metadata": {},
   "outputs": [
    {
     "name": "stdout",
     "output_type": "stream",
     "text": [
      "tensor([[1., 1.],\n",
      "        [1., 1.]], requires_grad=True)\n"
     ]
    }
   ],
   "source": [
    "x=torch.ones(2,2,requires_grad=True) \n",
    "#requires_grad=True 시 그 tensor에서 이뤄진 모든 연산을 추적\n",
    "print(x)"
   ]
  },
  {
   "cell_type": "code",
   "execution_count": 3,
   "metadata": {},
   "outputs": [
    {
     "name": "stdout",
     "output_type": "stream",
     "text": [
      "tensor([[3., 3.],\n",
      "        [3., 3.]], grad_fn=<AddBackward0>)\n"
     ]
    }
   ],
   "source": [
    "y=x+2\n",
    "print(y)"
   ]
  },
  {
   "cell_type": "code",
   "execution_count": 4,
   "metadata": {},
   "outputs": [
    {
     "name": "stdout",
     "output_type": "stream",
     "text": [
      "<AddBackward0 object at 0x0000022CBE6605E0>\n"
     ]
    }
   ],
   "source": [
    "print(y.grad_fn) #y는 연산의 결과로 생성된 것이므로 grad_fn을 가짐"
   ]
  },
  {
   "cell_type": "code",
   "execution_count": 5,
   "metadata": {},
   "outputs": [
    {
     "name": "stdout",
     "output_type": "stream",
     "text": [
      "tensor([[27., 27.],\n",
      "        [27., 27.]], grad_fn=<MulBackward0>) tensor(27., grad_fn=<MeanBackward0>)\n"
     ]
    }
   ],
   "source": [
    "z=y*y*3\n",
    "out=z.mean()\n",
    "print(z,out)"
   ]
  },
  {
   "cell_type": "code",
   "execution_count": 8,
   "metadata": {},
   "outputs": [
    {
     "name": "stdout",
     "output_type": "stream",
     "text": [
      "False\n",
      "True\n",
      "<SumBackward0 object at 0x0000022CBE666280>\n",
      "tensor([[16.1295,  1.0175],\n",
      "        [ 2.1009, -2.7706]], requires_grad=True)\n",
      "tensor(273.2868, grad_fn=<SumBackward0>)\n"
     ]
    }
   ],
   "source": [
    "a=torch.randn(2,2)\n",
    "a=((a*3)/(a-1))\n",
    "print(a.requires_grad) #입력값이 지정되지 않으면 기본값은 false\n",
    "a.requires_grad_(True) #기존 tensor의 requires_grad 값을 바꿔치기\n",
    "print(a.requires_grad)\n",
    "b=(a*a).sum()\n",
    "print(b.grad_fn)\n",
    "print(a)\n",
    "print(b)"
   ]
  },
  {
   "cell_type": "markdown",
   "metadata": {},
   "source": [
    "### gradient\n",
    "#### backprop"
   ]
  },
  {
   "cell_type": "code",
   "execution_count": 9,
   "metadata": {},
   "outputs": [
    {
     "name": "stdout",
     "output_type": "stream",
     "text": [
      "tensor([[4.5000, 4.5000],\n",
      "        [4.5000, 4.5000]])\n"
     ]
    }
   ],
   "source": [
    "out.backward() \n",
    "#out은 하나의 스칼라 값을 갖고 있기 때문에, out.backward(torch.tensor(1.)) 과 동일\n",
    "print(x.grad)"
   ]
  },
  {
   "cell_type": "code",
   "execution_count": 15,
   "metadata": {},
   "outputs": [
    {
     "name": "stdout",
     "output_type": "stream",
     "text": [
      "tensor([-2.2102, -0.6102, -4.2189], grad_fn=<MulBackward0>)\n",
      "tensor([-2.2102, -0.6102, -4.2189])\n",
      "tensor(4.8018)\n",
      "tensor([ -565.8182,  -156.2236, -1080.0492], grad_fn=<MulBackward0>)\n"
     ]
    }
   ],
   "source": [
    "x=torch.randn(3,requires_grad=True) #requires_grad=True는 backprop을 위한 준비\n",
    "\n",
    "y=x*2\n",
    "print(y)\n",
    "print(y.data)\n",
    "print(y.data.norm()) #모든 요소를 제곱 한 다음 합산, 마지막에 제곱근\n",
    "while y.data.norm()<1000:  #.data.norm() 는 L2 distance\n",
    "    y=y*2\n",
    "    \n",
    "print(y)"
   ]
  },
  {
   "cell_type": "code",
   "execution_count": 16,
   "metadata": {},
   "outputs": [
    {
     "name": "stdout",
     "output_type": "stream",
     "text": [
      "tensor([5.1200e+01, 5.1200e+02, 5.1200e-02])\n"
     ]
    }
   ],
   "source": [
    "#torch.autograd 는 벡터-jacobian 곱을 계산하는 엔진 (?)\n",
    "v=torch.tensor([0.1,1.0,0.0001],dtype=torch.float) #클래스 score 변수\n",
    "y.backward(v) # v 클래스 score에 대한 backprop 진행\n",
    "print(x.grad) #dv/dx 변화도 추적"
   ]
  },
  {
   "cell_type": "code",
   "execution_count": 19,
   "metadata": {},
   "outputs": [
    {
     "name": "stdout",
     "output_type": "stream",
     "text": [
      "True\n",
      "True\n",
      "False\n"
     ]
    }
   ],
   "source": [
    "print(x.requires_grad)\n",
    "print((x**2).requires_grad)\n",
    "\n",
    "with torch.no_grad():  \n",
    "    # with torch.no_grad(): 로 코드 블럭을 감싸서 autograd가 .requires_grad=True\n",
    "    # 인 tensor들의 연산 기록을 추적하는 것을 멈출 수 있음\n",
    "    print((x**2).requires_grad)"
   ]
  },
  {
   "cell_type": "code",
   "execution_count": 20,
   "metadata": {},
   "outputs": [
    {
     "name": "stdout",
     "output_type": "stream",
     "text": [
      "True\n",
      "False\n",
      "tensor(True)\n"
     ]
    }
   ],
   "source": [
    "print(x.requires_grad)\n",
    "y=x.detach() #.detach() 를 호출해 content는 같지만 requires_grad가 다른 새로운tensor\n",
    "print(y.requires_grad)\n",
    "print(x.eq(y).all()) #데이터가 일치하는가?"
   ]
  }
 ],
 "metadata": {
  "kernelspec": {
   "display_name": "Python 3",
   "language": "python",
   "name": "python3"
  },
  "language_info": {
   "codemirror_mode": {
    "name": "ipython",
    "version": 3
   },
   "file_extension": ".py",
   "mimetype": "text/x-python",
   "name": "python",
   "nbconvert_exporter": "python",
   "pygments_lexer": "ipython3",
   "version": "3.8.3"
  }
 },
 "nbformat": 4,
 "nbformat_minor": 4
}
